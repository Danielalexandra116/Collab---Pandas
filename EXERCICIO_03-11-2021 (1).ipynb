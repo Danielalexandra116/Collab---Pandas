{
 "cells": [
  {
   "cell_type": "code",
   "execution_count": 58,
   "id": "9b450c55",
   "metadata": {
    "collapsed": true
   },
   "outputs": [
    {
     "name": "stdout",
     "output_type": "stream",
     "text": [
      "Requirement already satisfied: pandas in c:\\users\\danda\\anaconda3\\lib\\site-packages (1.2.4)Note: you may need to restart the kernel to use updated packages.\n"
     ]
    },
    {
     "name": "stderr",
     "output_type": "stream",
     "text": [
      "WARNING: You are using pip version 21.2.4; however, version 21.3.1 is available.\n",
      "You should consider upgrading via the 'C:\\Users\\danda\\anaconda3\\python.exe -m pip install --upgrade pip' command.\n"
     ]
    },
    {
     "name": "stdout",
     "output_type": "stream",
     "text": [
      "\n",
      "Requirement already satisfied: numpy>=1.16.5 in c:\\users\\danda\\anaconda3\\lib\\site-packages (from pandas) (1.20.1)\n",
      "Requirement already satisfied: python-dateutil>=2.7.3 in c:\\users\\danda\\anaconda3\\lib\\site-packages (from pandas) (2.8.1)\n",
      "Requirement already satisfied: pytz>=2017.3 in c:\\users\\danda\\anaconda3\\lib\\site-packages (from pandas) (2021.1)\n",
      "Requirement already satisfied: six>=1.5 in c:\\users\\danda\\anaconda3\\lib\\site-packages (from python-dateutil>=2.7.3->pandas) (1.15.0)\n"
     ]
    }
   ],
   "source": [
    "pip install pandas"
   ]
  },
  {
   "cell_type": "code",
   "execution_count": 2,
   "id": "d57d5b3d",
   "metadata": {
    "collapsed": true
   },
   "outputs": [
    {
     "name": "stdout",
     "output_type": "stream",
     "text": [
      "Collecting selenium\n",
      "  Downloading selenium-4.0.0-py3-none-any.whl (954 kB)\n",
      "Collecting trio-websocket~=0.9\n",
      "  Downloading trio_websocket-0.9.2-py3-none-any.whl (16 kB)\n",
      "Collecting trio~=0.17\n",
      "  Downloading trio-0.19.0-py3-none-any.whl (356 kB)\n",
      "Requirement already satisfied: urllib3[secure]~=1.26 in c:\\users\\danda\\anaconda3\\lib\\site-packages (from selenium) (1.26.4)\n",
      "Collecting outcome\n",
      "  Downloading outcome-1.1.0-py2.py3-none-any.whl (9.7 kB)\n",
      "Requirement already satisfied: async-generator>=1.9 in c:\\users\\danda\\anaconda3\\lib\\site-packages (from trio~=0.17->selenium) (1.10)\n",
      "Requirement already satisfied: attrs>=19.2.0 in c:\\users\\danda\\anaconda3\\lib\\site-packages (from trio~=0.17->selenium) (20.3.0)\n",
      "Requirement already satisfied: sortedcontainers in c:\\users\\danda\\anaconda3\\lib\\site-packages (from trio~=0.17->selenium) (2.3.0)\n",
      "Requirement already satisfied: sniffio in c:\\users\\danda\\anaconda3\\lib\\site-packages (from trio~=0.17->selenium) (1.2.0)\n",
      "Requirement already satisfied: cffi>=1.14 in c:\\users\\danda\\anaconda3\\lib\\site-packages (from trio~=0.17->selenium) (1.14.5)\n",
      "Requirement already satisfied: idna in c:\\users\\danda\\anaconda3\\lib\\site-packages (from trio~=0.17->selenium) (2.10)\n",
      "Requirement already satisfied: pycparser in c:\\users\\danda\\anaconda3\\lib\\site-packages (from cffi>=1.14->trio~=0.17->selenium) (2.20)\n",
      "Collecting wsproto>=0.14\n",
      "  Downloading wsproto-1.0.0-py3-none-any.whl (24 kB)\n",
      "Requirement already satisfied: pyOpenSSL>=0.14 in c:\\users\\danda\\anaconda3\\lib\\site-packages (from urllib3[secure]~=1.26->selenium) (20.0.1)\n",
      "Requirement already satisfied: cryptography>=1.3.4 in c:\\users\\danda\\anaconda3\\lib\\site-packages (from urllib3[secure]~=1.26->selenium) (3.4.7)\n",
      "Requirement already satisfied: certifi in c:\\users\\danda\\anaconda3\\lib\\site-packages (from urllib3[secure]~=1.26->selenium) (2020.12.5)\n",
      "Requirement already satisfied: six>=1.5.2 in c:\\users\\danda\\anaconda3\\lib\\site-packages (from pyOpenSSL>=0.14->urllib3[secure]~=1.26->selenium) (1.15.0)\n",
      "Collecting h11<1,>=0.9.0\n",
      "  Downloading h11-0.12.0-py3-none-any.whl (54 kB)\n",
      "Installing collected packages: outcome, h11, wsproto, trio, trio-websocket, selenium\n",
      "Successfully installed h11-0.12.0 outcome-1.1.0 selenium-4.0.0 trio-0.19.0 trio-websocket-0.9.2 wsproto-1.0.0\n",
      "Note: you may need to restart the kernel to use updated packages.\n"
     ]
    },
    {
     "name": "stderr",
     "output_type": "stream",
     "text": [
      "WARNING: You are using pip version 21.2.4; however, version 21.3.1 is available.\n",
      "You should consider upgrading via the 'C:\\Users\\danda\\anaconda3\\python.exe -m pip install --upgrade pip' command.\n"
     ]
    }
   ],
   "source": [
    "pip install selenium"
   ]
  },
  {
   "cell_type": "code",
   "execution_count": 1,
   "id": "610e77db",
   "metadata": {},
   "outputs": [],
   "source": [
    "import time\n",
    "import requests\n",
    "import pandas as pd\n",
    "from bs4 import BeautifulSoup\n",
    "from selenium import webdriver\n",
    "from selenium.webdriver.common.keys import Keys"
   ]
  },
  {
   "cell_type": "code",
   "execution_count": 2,
   "id": "38518f4a",
   "metadata": {},
   "outputs": [
    {
     "name": "stderr",
     "output_type": "stream",
     "text": [
      "<ipython-input-2-1719079d5cef>:8: DeprecationWarning: find_element_by_* commands are deprecated. Please use find_element() instead\n",
      "  driver.find_element_by_xpath('//*[@id=\"header-section\"]/div/div[4]/div[2]/a[1]').click()\n",
      "<ipython-input-2-1719079d5cef>:9: DeprecationWarning: find_element_by_* commands are deprecated. Please use find_element() instead\n",
      "  body = driver.find_element_by_css_selector('body')\n",
      "<ipython-input-2-1719079d5cef>:14: DeprecationWarning: find_element_by_* commands are deprecated. Please use find_element() instead\n",
      "  element = driver.find_element_by_class_name(\"bs-home\")\n"
     ]
    }
   ],
   "source": [
    "# Fazendo um request da globo e gravando em uma variável\n",
    "url = 'https://www.globo.com/'\n",
    "driver = webdriver.Chrome()\n",
    "driver.get(url)\n",
    "time.sleep(3)\n",
    "\n",
    "#driver.find_element_by_id('onetrust-accept-btn-handler').click()\n",
    "driver.find_element_by_xpath('//*[@id=\"header-section\"]/div/div[4]/div[2]/a[1]').click()\n",
    "body = driver.find_element_by_css_selector('body')\n",
    "\n",
    "for x in range(15):    \n",
    "    body.send_keys(Keys.PAGE_DOWN)\n",
    "    time.sleep(2)\n",
    "element = driver.find_element_by_class_name(\"bs-home\")\n",
    "html_content = element.get_attribute('outerHTML')\n",
    "driver.quit()\n",
    "\n",
    "# Transformando com o parser para html\n",
    "soup = BeautifulSoup(html_content, 'html.parser')\n",
    "\n",
    "# Analisando todos os 'h3' da página web (após inspecionar a página - 1ª busca)\n",
    "titulos = []\n",
    "\n",
    "for texto in soup.find_all(class_='feed-post-link gui-color-primary gui-color-hover'):\n",
    "    titulos.append(texto)\n",
    "    df = pd.Series(titulos)\n",
    "\n",
    "   "
   ]
  },
  {
   "cell_type": "code",
   "execution_count": 3,
   "id": "72c97a52",
   "metadata": {},
   "outputs": [
    {
     "data": {
      "text/plain": [
       "0     [VÍDEO: polícia lança bombas contra manifestan...\n",
       "1     [Senado começa a discutir PEC dos Precatórios ...\n",
       "2     [323 SIM x 172 NÃO: VEJA O VOTO DE CADA DEPUTADO]\n",
       "3     [Governo revisa e reúne mais de mil decretos t...\n",
       "4     [Cidade de SP se compromete a proibir venda de...\n",
       "5     [TCU investiga diárias milionárias pagas a mem...\n",
       "6     [Moro se filia ao Podemos, critica PT e Bolson...\n",
       "7                           [Atlético-MG x Corinthians]\n",
       "8                                 [Santos x Bragantino]\n",
       "9                               [Athletico-PR x Ceará ]\n",
       "10    [Menos30 Fest: Boca Rosa e Felipe Silva compar...\n",
       "11    [Com inflação de 10,6%, poupança tem pior reto...\n",
       "12    [Pfizer inicia testes no Brasil de pílula expe...\n",
       "13    [Ex-juiz e ex-ministro Sergio Moro se filia ao...\n",
       "14    [Médico que denunciou Prevent foi ameaçado e p...\n",
       "15    [VÍDEO: cadelinha 'assina' projeto de lei ao l...\n",
       "16    [Já testou calcinha absorvente ou coletor mens...\n",
       "17    ['Todo mundo vai sofrer': deixe sua homenagem ...\n",
       "18    [Nenhuma câmera filmou acidente de Marília Men...\n",
       "19    [Relator dá parecer favorável a projeto que pr...\n",
       "20    [Bolsonaro viaja amanhã para Emirados Árabes, ...\n",
       "21    [Ministro diz na COP26 que 'onde há floresta h...\n",
       "22    [Mourão critica 'orçamento secreto' e vê inter...\n",
       "23    [Governo troca diretora responsável por extrad...\n",
       "24    [PF tira inquérito sobre Salles do delegado qu...\n",
       "25    [Moraes afasta Roberto Jefferson da presidênci...\n",
       "26    [Cariocas fazem abaixo-assinado contra despejo...\n",
       "27    [SP é o 1º estado a ter 70% da população total...\n",
       "28    ['Terror foi grande', diz pai de menino ameaça...\n",
       "29    [Investigação de Flávio Bolsonaro pode voltar ...\n",
       "30    [Músico chega morto a clínica de reabilitação,...\n",
       "31    [Mulher que estava em quarto com MC Kevin pres...\n",
       "dtype: object"
      ]
     },
     "execution_count": 3,
     "metadata": {},
     "output_type": "execute_result"
    }
   ],
   "source": [
    "df"
   ]
  },
  {
   "cell_type": "code",
   "execution_count": null,
   "id": "ec3fdff7",
   "metadata": {},
   "outputs": [],
   "source": []
  },
  {
   "cell_type": "code",
   "execution_count": null,
   "id": "ef30d47c",
   "metadata": {},
   "outputs": [],
   "source": []
  },
  {
   "cell_type": "code",
   "execution_count": null,
   "id": "0376f8da",
   "metadata": {},
   "outputs": [],
   "source": []
  },
  {
   "cell_type": "code",
   "execution_count": null,
   "id": "b2189229",
   "metadata": {},
   "outputs": [],
   "source": []
  },
  {
   "cell_type": "code",
   "execution_count": null,
   "id": "7a1c7072",
   "metadata": {},
   "outputs": [],
   "source": []
  },
  {
   "cell_type": "code",
   "execution_count": null,
   "id": "5ac56826",
   "metadata": {},
   "outputs": [],
   "source": []
  },
  {
   "cell_type": "code",
   "execution_count": null,
   "id": "880932f2",
   "metadata": {},
   "outputs": [],
   "source": []
  },
  {
   "cell_type": "code",
   "execution_count": null,
   "id": "458f27b9",
   "metadata": {},
   "outputs": [],
   "source": []
  },
  {
   "cell_type": "code",
   "execution_count": null,
   "id": "05a4dee2",
   "metadata": {},
   "outputs": [],
   "source": []
  },
  {
   "cell_type": "code",
   "execution_count": null,
   "id": "e66ddb33",
   "metadata": {},
   "outputs": [],
   "source": []
  },
  {
   "cell_type": "code",
   "execution_count": null,
   "id": "25fa86ab",
   "metadata": {},
   "outputs": [],
   "source": []
  }
 ],
 "metadata": {
  "kernelspec": {
   "display_name": "Python 3",
   "language": "python",
   "name": "python3"
  },
  "language_info": {
   "codemirror_mode": {
    "name": "ipython",
    "version": 3
   },
   "file_extension": ".py",
   "mimetype": "text/x-python",
   "name": "python",
   "nbconvert_exporter": "python",
   "pygments_lexer": "ipython3",
   "version": "3.8.8"
  }
 },
 "nbformat": 4,
 "nbformat_minor": 5
}

{
  "nbformat": 4,
  "nbformat_minor": 5,
  "metadata": {
    "kernelspec": {
      "display_name": "Python 3",
      "language": "python",
      "name": "python3"
    },
    "language_info": {
      "codemirror_mode": {
        "name": "ipython",
        "version": 3
      },
      "file_extension": ".py",
      "mimetype": "text/x-python",
      "name": "python",
      "nbconvert_exporter": "python",
      "pygments_lexer": "ipython3",
      "version": "3.8.8"
    },
    "colab": {
      "name": "AC3 WDA (2).ipynb",
      "provenance": [],
      "collapsed_sections": []
    }
  },
  "cells": [
    {
      "cell_type": "code",
      "metadata": {
        "id": "a58e6712"
      },
      "source": [
        "'''\n",
        "Nome:\n",
        "\n",
        "Camila Lima Ferreira de Souza\n",
        "Daniela Alexandra da Silva\n",
        "Guilherme Silva Monteiro\n",
        "Julia Camila Matias de Araújo\n",
        "Lucas Henrique de Sousa\n",
        "\n",
        "'''"
      ],
      "id": "a58e6712",
      "execution_count": null,
      "outputs": []
    },
    {
      "cell_type": "code",
      "metadata": {
        "id": "6ab4d1d1"
      },
      "source": [
        "import requests\n",
        "import pandas as pd\n",
        "import matplotlib.pyplot as plt \n",
        "import numpy as np"
      ],
      "id": "6ab4d1d1",
      "execution_count": 48,
      "outputs": []
    },
    {
      "cell_type": "code",
      "metadata": {
        "id": "1686fa3b"
      },
      "source": [
        "# Explicar com suas palavras:\n",
        "# 1 Qual é o padrão arquitetural do REST API?\n",
        "'''\n",
        "Um padrão mais simplificado determinado por formato representativo \n",
        "#\"ideal\" arquitetura cliente, servidor e api - via WEB que utiliza como protocolo HTTP, como meio de comunicação;\n",
        "'''"
      ],
      "id": "1686fa3b",
      "execution_count": null,
      "outputs": []
    },
    {
      "cell_type": "code",
      "metadata": {
        "id": "583ee67e"
      },
      "source": [
        "# 2 Por que é chamado de \"Sossegado\" (RESTful)?\n",
        "'''\n",
        "O REST FULL é chamado de sossegado devido ao formato, ele segue a arquitetura REST; \n",
        "Escalonaveis, sem estado, alto desempenho, cache.\n",
        "'''"
      ],
      "id": "583ee67e",
      "execution_count": null,
      "outputs": []
    },
    {
      "cell_type": "code",
      "metadata": {
        "id": "de249174"
      },
      "source": [
        "# 3 O que é “CRUD”?\n",
        "'''\n",
        "CRUD significa CREATE, READ, UPDATE e DELETE. \n",
        "São metodos utilizados para comunicação com API, Seja para leitura ou alteração do mesmo; \n",
        "'''"
      ],
      "id": "de249174",
      "execution_count": null,
      "outputs": []
    },
    {
      "cell_type": "code",
      "metadata": {
        "id": "c65e0860"
      },
      "source": [
        "# 4 Aprendemos o método GET, qual a correspondência de métodos com o CRUD?\n",
        "'''\n",
        "O metodo READ(ler)determinado arquivo ou operação é o metodo GET. Para obter resposta da API REST\n",
        "'''"
      ],
      "id": "c65e0860",
      "execution_count": null,
      "outputs": []
    },
    {
      "cell_type": "code",
      "metadata": {
        "id": "94dc3028"
      },
      "source": [
        "# 5 Além do método quais os outros três itens de um Request?\n",
        "'''\n",
        "Cabeçalho, Operação, parametro/corpo e endpoint(padrão rest)\n",
        "'''"
      ],
      "id": "94dc3028",
      "execution_count": null,
      "outputs": []
    },
    {
      "cell_type": "code",
      "metadata": {
        "id": "714610dc"
      },
      "source": [
        "# Com o request pegar marca Almay\n",
        "almay = requests.get(\"http://makeup-api.herokuapp.com/api/v1/products.json?brand=almay\")"
      ],
      "id": "714610dc",
      "execution_count": null,
      "outputs": []
    },
    {
      "cell_type": "code",
      "metadata": {
        "colab": {
          "base_uri": "https://localhost:8080/"
        },
        "id": "325a3c6d",
        "outputId": "99db9afc-5800-4058-9eea-11ca2147927d"
      },
      "source": [
        "almay.status_code"
      ],
      "id": "325a3c6d",
      "execution_count": null,
      "outputs": [
        {
          "output_type": "execute_result",
          "data": {
            "text/plain": [
              "200"
            ]
          },
          "metadata": {},
          "execution_count": 9
        }
      ]
    },
    {
      "cell_type": "code",
      "metadata": {
        "id": "54ac7c2f"
      },
      "source": [
        "df_almay = pd.DataFrame(almay.json()).T\n",
        "df_almay.head()"
      ],
      "id": "54ac7c2f",
      "execution_count": null,
      "outputs": []
    },
    {
      "cell_type": "code",
      "metadata": {
        "id": "65248ca0"
      },
      "source": [
        "# Com o request pegar marca suncoat\n",
        "suncoat = requests.get(\"http://makeup-api.herokuapp.com/api/v1/products.json?brand=suncoat\")"
      ],
      "id": "65248ca0",
      "execution_count": null,
      "outputs": []
    },
    {
      "cell_type": "code",
      "metadata": {
        "collapsed": true,
        "colab": {
          "base_uri": "https://localhost:8080/",
          "height": 238
        },
        "id": "a6658e12",
        "outputId": "86bfc00a-0adf-4ca6-c930-bca51e7c786c"
      },
      "source": [
        "df_suncoat = pd.DataFrame(suncoat.json()).T\n",
        "df_suncoat.head()"
      ],
      "id": "a6658e12",
      "execution_count": null,
      "outputs": [
        {
          "output_type": "execute_result",
          "data": {
            "text/html": [
              "<div>\n",
              "<style scoped>\n",
              "    .dataframe tbody tr th:only-of-type {\n",
              "        vertical-align: middle;\n",
              "    }\n",
              "\n",
              "    .dataframe tbody tr th {\n",
              "        vertical-align: top;\n",
              "    }\n",
              "\n",
              "    .dataframe thead th {\n",
              "        text-align: right;\n",
              "    }\n",
              "</style>\n",
              "<table border=\"1\" class=\"dataframe\">\n",
              "  <thead>\n",
              "    <tr style=\"text-align: right;\">\n",
              "      <th></th>\n",
              "      <th>0</th>\n",
              "      <th>1</th>\n",
              "      <th>2</th>\n",
              "      <th>3</th>\n",
              "      <th>4</th>\n",
              "      <th>5</th>\n",
              "    </tr>\n",
              "  </thead>\n",
              "  <tbody>\n",
              "    <tr>\n",
              "      <th>id</th>\n",
              "      <td>187</td>\n",
              "      <td>128</td>\n",
              "      <td>120</td>\n",
              "      <td>119</td>\n",
              "      <td>115</td>\n",
              "      <td>17</td>\n",
              "    </tr>\n",
              "    <tr>\n",
              "      <th>brand</th>\n",
              "      <td>suncoat</td>\n",
              "      <td>suncoat</td>\n",
              "      <td>suncoat</td>\n",
              "      <td>suncoat</td>\n",
              "      <td>suncoat</td>\n",
              "      <td>suncoat</td>\n",
              "    </tr>\n",
              "    <tr>\n",
              "      <th>name</th>\n",
              "      <td>Suncoat Sugar-based Natural Liquid Eyeliner</td>\n",
              "      <td>Suncoat Polish &amp; Peel Super Natural Mineral Na...</td>\n",
              "      <td>Suncoat Girl Nail Beauty Kit with Decals Balle...</td>\n",
              "      <td>Suncoat Girl Nail Beauty Kit with Decals Merma...</td>\n",
              "      <td>Suncoat Girl Water-Based Nail Polish</td>\n",
              "      <td>Suncoat Sugar-Based Mascara</td>\n",
              "    </tr>\n",
              "    <tr>\n",
              "      <th>price</th>\n",
              "      <td>16.99</td>\n",
              "      <td>9.29</td>\n",
              "      <td>22.49</td>\n",
              "      <td>22.49</td>\n",
              "      <td>8.29</td>\n",
              "      <td>16.49</td>\n",
              "    </tr>\n",
              "    <tr>\n",
              "      <th>price_sign</th>\n",
              "      <td>None</td>\n",
              "      <td>None</td>\n",
              "      <td>None</td>\n",
              "      <td>None</td>\n",
              "      <td>None</td>\n",
              "      <td>None</td>\n",
              "    </tr>\n",
              "  </tbody>\n",
              "</table>\n",
              "</div>"
            ],
            "text/plain": [
              "                                                      0  ...                            5\n",
              "id                                                  187  ...                           17\n",
              "brand                                           suncoat  ...                      suncoat\n",
              "name        Suncoat Sugar-based Natural Liquid Eyeliner  ...  Suncoat Sugar-Based Mascara\n",
              "price                                             16.99  ...                        16.49\n",
              "price_sign                                         None  ...                         None\n",
              "\n",
              "[5 rows x 6 columns]"
            ]
          },
          "metadata": {},
          "execution_count": 12
        }
      ]
    },
    {
      "cell_type": "code",
      "metadata": {
        "id": "5fbb8eb4"
      },
      "source": [
        "# Com o request pegar marca Dior\n",
        "dior = requests.get(\"http://makeup-api.herokuapp.com/api/v1/products.json?brand=dior\")"
      ],
      "id": "5fbb8eb4",
      "execution_count": null,
      "outputs": []
    },
    {
      "cell_type": "code",
      "metadata": {
        "colab": {
          "base_uri": "https://localhost:8080/"
        },
        "id": "2847d623",
        "outputId": "b557b280-f2f3-408d-bd46-e1ddb816b22f"
      },
      "source": [
        "dior.status_code"
      ],
      "id": "2847d623",
      "execution_count": null,
      "outputs": [
        {
          "output_type": "execute_result",
          "data": {
            "text/plain": [
              "200"
            ]
          },
          "metadata": {},
          "execution_count": 14
        }
      ]
    },
    {
      "cell_type": "code",
      "metadata": {
        "id": "1484b850"
      },
      "source": [
        "df_dior = pd.DataFrame(dior.json()).T\n",
        "df_dior.head()"
      ],
      "id": "1484b850",
      "execution_count": null,
      "outputs": []
    },
    {
      "cell_type": "code",
      "metadata": {
        "id": "0526e9f5"
      },
      "source": [
        "#Pegar um produto (blush) do Makeup API pelo type \n",
        "blush = requests.get(\"http://makeup-api.herokuapp.com/api/v1/products.json?product_type=blush\")\n"
      ],
      "id": "0526e9f5",
      "execution_count": null,
      "outputs": []
    },
    {
      "cell_type": "code",
      "metadata": {
        "colab": {
          "base_uri": "https://localhost:8080/"
        },
        "id": "71de4b81",
        "outputId": "e969ccb4-ee98-4a56-f9af-cccf016d97c7"
      },
      "source": [
        "blush.status_code"
      ],
      "id": "71de4b81",
      "execution_count": null,
      "outputs": [
        {
          "output_type": "execute_result",
          "data": {
            "text/plain": [
              "200"
            ]
          },
          "metadata": {},
          "execution_count": 17
        }
      ]
    },
    {
      "cell_type": "code",
      "metadata": {
        "id": "a309450e"
      },
      "source": [
        "df_blush = pd.DataFrame(blush.json())\n",
        "df_blush.head()"
      ],
      "id": "a309450e",
      "execution_count": null,
      "outputs": []
    },
    {
      "cell_type": "code",
      "metadata": {
        "id": "a2880210"
      },
      "source": [
        "#Criar um dataframe do pandas com o products.json;\n",
        "df_produto = pd.read_json('products.json')\n",
        "df_produto"
      ],
      "id": "a2880210",
      "execution_count": null,
      "outputs": []
    },
    {
      "cell_type": "code",
      "metadata": {
        "scrolled": true,
        "id": "3dfc31ea"
      },
      "source": [
        "#Contar a quantidade de cada produto que foi inserido no dataframe;\n",
        "produto_agrupado = df_produto.groupby('product_type')\n",
        "produto_agrupado.count().T"
      ],
      "id": "3dfc31ea",
      "execution_count": null,
      "outputs": []
    },
    {
      "cell_type": "code",
      "metadata": {
        "colab": {
          "base_uri": "https://localhost:8080/"
        },
        "id": "82a88be7",
        "outputId": "339e0853-2f87-4ae2-b10c-28bd40948c8a"
      },
      "source": [
        "produto_agrupado2 = df_produto.groupby('product_type').count()\n",
        "produto_agrupado2['id']"
      ],
      "id": "82a88be7",
      "execution_count": null,
      "outputs": [
        {
          "output_type": "execute_result",
          "data": {
            "text/plain": [
              "product_type\n",
              "blush           78\n",
              "bronzer         69\n",
              "eyebrow         49\n",
              "eyeliner       148\n",
              "eyeshadow       86\n",
              "foundation     166\n",
              "lip_liner       29\n",
              "lipstick       154\n",
              "mascara         92\n",
              "nail_polish     60\n",
              "Name: id, dtype: int64"
            ]
          },
          "metadata": {},
          "execution_count": 21
        }
      ]
    },
    {
      "cell_type": "code",
      "metadata": {
        "id": "LZDat37y3-TD"
      },
      "source": [
        "produto_agrupado.describe().round()"
      ],
      "id": "LZDat37y3-TD",
      "execution_count": null,
      "outputs": []
    },
    {
      "cell_type": "code",
      "metadata": {
        "id": "eyQ6VNcU8jNp"
      },
      "source": [
        "x = produto_agrupado2.sort_values('product_type',ascending=False).head(20)['id'].index\n",
        "y = produto_agrupado2.sort_values('product_type',ascending=False).head(10)['id']"
      ],
      "id": "eyQ6VNcU8jNp",
      "execution_count": 44,
      "outputs": []
    },
    {
      "cell_type": "code",
      "metadata": {
        "id": "TyDxBjl1ByOh"
      },
      "source": [
        ""
      ],
      "id": "TyDxBjl1ByOh",
      "execution_count": null,
      "outputs": []
    },
    {
      "cell_type": "code",
      "metadata": {
        "colab": {
          "base_uri": "https://localhost:8080/",
          "height": 614
        },
        "id": "5682c577",
        "outputId": "71adc457-7bbd-4d71-96d3-5ed5c25837ad"
      },
      "source": [
        "#Criar um gráfico com a contagem de cada produto que foi solicitado \n",
        "plt.rcParams[\"figure.figsize\"]= [12,9]\n",
        "plt.bar(x, y,color='red') #Informações dos eixos X e Y e cor do gráfico\n",
        "plt.title('Gráfico de barras - Produtos') #Titulo\n",
        "plt.xticks(rotation='vertical') #Tipo de rotação do eixo X\n",
        "plt.xlabel('Produtos') #Nome do eixo X\n",
        "plt.ylabel('Total Produtos') #Nome do eixo Y\n",
        "plt.show() #Exibição do gráfico na tela\n"
      ],
      "id": "5682c577",
      "execution_count": 50,
      "outputs": [
        {
          "output_type": "display_data",
          "data": {
            "image/png": "[encoded data removed]",
            "text/plain": [
              "<Figure size 864x648 with 1 Axes>"
            ]
          },
          "metadata": {
            "needs_background": "light"
          }
        }
      ]
    }
  ]
}
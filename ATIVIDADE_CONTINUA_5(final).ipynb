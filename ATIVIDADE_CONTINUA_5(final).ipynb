{
 "cells": [
  {
   "cell_type": "code",
   "execution_count": 92,
   "metadata": {
    "id": "mBelJTSV6t5b"
   },
   "outputs": [],
   "source": [
    "#Camila Lima Ferreira de Souza\n",
    "#Daniela Alexandra da Silva\n",
    "#Guilherme Silva Monteiro\n",
    "#Julia Camila Matias de Araújo\n",
    "#Lucas Henrique de Sousa\n",
    "\n"
   ]
  },
  {
   "cell_type": "code",
   "execution_count": 93,
   "metadata": {
    "colab": {
     "base_uri": "https://localhost:8080/",
     "height": 350
    },
    "id": "X2zFKEMt6wKk",
    "outputId": "ad208c9e-60c5-400d-9d21-c5e5fb867025"
   },
   "outputs": [],
   "source": [
    "import time\n",
    "import requests\n",
    "import pandas as pd\n",
    "from bs4 import BeautifulSoup\n",
    "from selenium import webdriver\n",
    "from selenium.webdriver.common.keys import Keys"
   ]
  },
  {
   "cell_type": "code",
   "execution_count": 94,
   "metadata": {
    "collapsed": true,
    "id": "pHBZfmwQ6wG5"
   },
   "outputs": [
    {
     "name": "stderr",
     "output_type": "stream",
     "text": [
      "<ipython-input-94-4d931fae4871>:8: DeprecationWarning: find_element_by_* commands are deprecated. Please use find_element() instead\n",
      "  driver.find_element_by_xpath('/html/body/header/div/form/input').click()\n",
      "<ipython-input-94-4d931fae4871>:9: DeprecationWarning: find_element_by_* commands are deprecated. Please use find_element() instead\n",
      "  element = driver.find_element_by_name(\"as_word\")\n"
     ]
    }
   ],
   "source": [
    "# Fazendo um request da MERCADO LIVRE e gravando em uma variável\n",
    "url = 'https://www.mercadolivre.com.br/'\n",
    "driver = webdriver.Chrome()\n",
    "driver.get(url)\n",
    "time.sleep(3)\n",
    "\n",
    "#driver.find_element_by_id('onetrust-accept-btn-handler').click()\n",
    "driver.find_element_by_xpath('/html/body/header/div/form/input').click()\n",
    "element = driver.find_element_by_name(\"as_word\")\n",
    "element.send_keys('Notebook i5')\n",
    "element.send_keys(Keys.RETURN)\n"
   ]
  },
  {
   "cell_type": "code",
   "execution_count": 95,
   "metadata": {
    "collapsed": true,
    "id": "nakSXaOq6wEo"
   },
   "outputs": [
    {
     "name": "stderr",
     "output_type": "stream",
     "text": [
      "<ipython-input-95-5299f02706c3>:1: DeprecationWarning: find_element_by_* commands are deprecated. Please use find_element() instead\n",
      "  body = driver.find_element_by_css_selector('body')\n",
      "<ipython-input-95-5299f02706c3>:6: DeprecationWarning: find_element_by_* commands are deprecated. Please use find_element() instead\n",
      "  element = driver.find_element_by_class_name(\"ui-search\")\n",
      "<ipython-input-95-5299f02706c3>:7: DeprecationWarning: find_element_by_* commands are deprecated. Please use find_element() instead\n",
      "  driver.find_element_by_xpath('/html')\n"
     ]
    }
   ],
   "source": [
    "body = driver.find_element_by_css_selector('body')\n",
    "\n",
    "for x in range(10):    \n",
    "    body.send_keys(Keys.PAGE_DOWN)\n",
    "    time.sleep(2)\n",
    "element = driver.find_element_by_class_name(\"ui-search\")\n",
    "driver.find_element_by_xpath('/html')\n",
    "html_content = element.get_attribute('outerHTML')\n",
    "driver.quit()\n",
    "\n",
    "# Transformando com o parser para html\n",
    "soup = BeautifulSoup(html_content, 'html.parser')\n"
   ]
  },
  {
   "cell_type": "code",
   "execution_count": 96,
   "metadata": {
    "id": "f5JYlWdN6v6B"
   },
   "outputs": [],
   "source": [
    "titulos = []\n",
    "for texto in soup.find_all('h2', attrs={'class':'ui-search-item__title'}):\n",
    "    titulos.append(texto.text)"
   ]
  },
  {
   "cell_type": "code",
   "execution_count": 97,
   "metadata": {},
   "outputs": [],
   "source": [
    "preco_todo = soup.find_all('div', attrs={'class':'ui-search-result__content-wrapper'})"
   ]
  },
  {
   "cell_type": "code",
   "execution_count": 98,
   "metadata": {},
   "outputs": [],
   "source": [
    "#valores = []\n",
    "#for texto2 in soup.find_all('div', attrs={'ui-search-price ui-search-price--size-medium ui-search-item__group__element'}):\n",
    "   # valores.append(texto2.text)"
   ]
  },
  {
   "cell_type": "code",
   "execution_count": 99,
   "metadata": {},
   "outputs": [
    {
     "name": "stdout",
     "output_type": "stream",
     "text": [
      "Antes: 7799 reaisR$7.7996999 reaisR$6.99910% OFFem12x 583 reais con 25 centavos R$583,25sem jurosFrete grátisNotebook LG Gram Intel Ci5 Full Hd 14'' 14z90n 8gb 256gb W10por Mercado Livre\n"
     ]
    }
   ],
   "source": [
    "valores = []\n",
    "for preco in preco_todo:\n",
    "    valores.append(preco.find(class_='ui-search-price__second-line'))\n",
    "print(preco.text)"
   ]
  },
  {
   "cell_type": "code",
   "execution_count": 100,
   "metadata": {},
   "outputs": [],
   "source": [
    "valores_real = []\n",
    "for p2 in valores:\n",
    "    valores_real.append(p2.find(class_='price-tag-text-sr-only').text)\n",
    "    "
   ]
  },
  {
   "cell_type": "code",
   "execution_count": 101,
   "metadata": {},
   "outputs": [],
   "source": [
    "df2 = pd.DataFrame()"
   ]
  },
  {
   "cell_type": "code",
   "execution_count": 102,
   "metadata": {},
   "outputs": [
    {
     "data": {
      "text/plain": [
       "51"
      ]
     },
     "execution_count": 102,
     "metadata": {},
     "output_type": "execute_result"
    }
   ],
   "source": [
    "len(titulos)"
   ]
  },
  {
   "cell_type": "code",
   "execution_count": 103,
   "metadata": {},
   "outputs": [
    {
     "data": {
      "text/plain": [
       "51"
      ]
     },
     "execution_count": 103,
     "metadata": {},
     "output_type": "execute_result"
    }
   ],
   "source": [
    "len(valores_real)"
   ]
  },
  {
   "cell_type": "code",
   "execution_count": 104,
   "metadata": {
    "id": "kKCUP12D6wBn"
   },
   "outputs": [],
   "source": [
    "df2 ['Produto'] = titulos\n",
    "df2 ['valores'] = valores_real"
   ]
  },
  {
   "cell_type": "code",
   "execution_count": 91,
   "metadata": {
    "id": "0RIrgMDk6v8X"
   },
   "outputs": [
    {
     "data": {
      "text/html": [
       "<div>\n",
       "<style scoped>\n",
       "    .dataframe tbody tr th:only-of-type {\n",
       "        vertical-align: middle;\n",
       "    }\n",
       "\n",
       "    .dataframe tbody tr th {\n",
       "        vertical-align: top;\n",
       "    }\n",
       "\n",
       "    .dataframe thead th {\n",
       "        text-align: right;\n",
       "    }\n",
       "</style>\n",
       "<table border=\"1\" class=\"dataframe\">\n",
       "  <thead>\n",
       "    <tr style=\"text-align: right;\">\n",
       "      <th></th>\n",
       "      <th>Produto</th>\n",
       "      <th>valores</th>\n",
       "    </tr>\n",
       "  </thead>\n",
       "  <tbody>\n",
       "    <tr>\n",
       "      <th>0</th>\n",
       "      <td>Notebook A514-53-5239 Ci5 4gb Ram 256gb Ssd 14...</td>\n",
       "      <td>3028 reais</td>\n",
       "    </tr>\n",
       "    <tr>\n",
       "      <th>1</th>\n",
       "      <td>Notebook S145 I5 8gb 256gb Ssd W10 15.6  82dj0...</td>\n",
       "      <td>3799 reais</td>\n",
       "    </tr>\n",
       "    <tr>\n",
       "      <th>2</th>\n",
       "      <td>Notebook Lenovo Ideapad 3hd 15,6'' I5-iml Ci5 ...</td>\n",
       "      <td>3399 reais</td>\n",
       "    </tr>\n",
       "    <tr>\n",
       "      <th>3</th>\n",
       "      <td>Notebook Acer Aspire 5 A515-54 prateada 15.6\",...</td>\n",
       "      <td>2983 reais</td>\n",
       "    </tr>\n",
       "    <tr>\n",
       "      <th>4</th>\n",
       "      <td>Notebook Acer Aspire Nitro 5 AN515-54 vermelha...</td>\n",
       "      <td>4899 reais</td>\n",
       "    </tr>\n",
       "    <tr>\n",
       "      <th>5</th>\n",
       "      <td>Notebook Acer Aspire 5 A515-54 prateada 15.6\",...</td>\n",
       "      <td>3799 reais</td>\n",
       "    </tr>\n",
       "    <tr>\n",
       "      <th>6</th>\n",
       "      <td>Notebook Acer A515-54g-53xp I5 8gb (mx 2gb) 25...</td>\n",
       "      <td>3759 reais</td>\n",
       "    </tr>\n",
       "    <tr>\n",
       "      <th>7</th>\n",
       "      <td>Notebook Samsung Book X30 Ci5 8gb 256ssd 15,6'...</td>\n",
       "      <td>3758 reais</td>\n",
       "    </tr>\n",
       "    <tr>\n",
       "      <th>8</th>\n",
       "      <td>Notebook Samsung Galaxy Book S mercury gray tá...</td>\n",
       "      <td>5507 reais</td>\n",
       "    </tr>\n",
       "    <tr>\n",
       "      <th>9</th>\n",
       "      <td>Notebook gamer Acer Aspire Nitro 5 AN517-52 pr...</td>\n",
       "      <td>5499 reais</td>\n",
       "    </tr>\n",
       "    <tr>\n",
       "      <th>10</th>\n",
       "      <td>Notebook Acer Aspire 5 A514-53 prata 14\", Inte...</td>\n",
       "      <td>3999 reais</td>\n",
       "    </tr>\n",
       "    <tr>\n",
       "      <th>11</th>\n",
       "      <td>Notebook Acer Aspire 5 A515-54-55l0 I5 8gb 256...</td>\n",
       "      <td>3299 reais</td>\n",
       "    </tr>\n",
       "    <tr>\n",
       "      <th>12</th>\n",
       "      <td>Notebook Lenovo IdeaPad 15IML05  platinum gray...</td>\n",
       "      <td>3752 reais</td>\n",
       "    </tr>\n",
       "    <tr>\n",
       "      <th>13</th>\n",
       "      <td>Notebook Asus VivoBook X543UA cinza-oscura 15....</td>\n",
       "      <td>2999 reais</td>\n",
       "    </tr>\n",
       "    <tr>\n",
       "      <th>14</th>\n",
       "      <td>Notebook Acer Aspire 3 15.6 Hd I5-1035g1 256gb...</td>\n",
       "      <td>3389 reais</td>\n",
       "    </tr>\n",
       "    <tr>\n",
       "      <th>15</th>\n",
       "      <td>Notebook Acer Aspire5 A515-54-56w9 Corei5 4gb ...</td>\n",
       "      <td>3199 reais</td>\n",
       "    </tr>\n",
       "    <tr>\n",
       "      <th>16</th>\n",
       "      <td>Notebook Acer Aspire 5 A514-53 prata 14\", Inte...</td>\n",
       "      <td>3999 reais</td>\n",
       "    </tr>\n",
       "    <tr>\n",
       "      <th>17</th>\n",
       "      <td>Notebook Acer Aspire 5 15,6'' A515-54-50bt Ci5...</td>\n",
       "      <td>3799 reais</td>\n",
       "    </tr>\n",
       "    <tr>\n",
       "      <th>18</th>\n",
       "      <td>Notebook Acer Aspire5 A515-54-557c I5 4gb 256g...</td>\n",
       "      <td>3299 reais</td>\n",
       "    </tr>\n",
       "    <tr>\n",
       "      <th>19</th>\n",
       "      <td>Notebook Acer Aspire 5 15,6'' Ci5 A515-54g 8gb...</td>\n",
       "      <td>3999 reais</td>\n",
       "    </tr>\n",
       "    <tr>\n",
       "      <th>20</th>\n",
       "      <td>Notebook A515-54-55l0 Ci5 8gb Ram Ssd 256gb 15...</td>\n",
       "      <td>3272 reais</td>\n",
       "    </tr>\n",
       "    <tr>\n",
       "      <th>21</th>\n",
       "      <td>Notebook Acer Aspire 5 15,6'' A515-54g-52c1 Ci...</td>\n",
       "      <td>4199 reais</td>\n",
       "    </tr>\n",
       "    <tr>\n",
       "      <th>22</th>\n",
       "      <td>Notebook Samsung Book Ci5 8gb 1tb Intel Iris X...</td>\n",
       "      <td>3799 reais</td>\n",
       "    </tr>\n",
       "    <tr>\n",
       "      <th>23</th>\n",
       "      <td>Notebook Gamer Nitro 5 An517-52-56pr I5 8gb 51...</td>\n",
       "      <td>5499 reais</td>\n",
       "    </tr>\n",
       "    <tr>\n",
       "      <th>24</th>\n",
       "      <td>Notebook Lenovo IdeaPad 15IML05  platinum gray...</td>\n",
       "      <td>3199 reais</td>\n",
       "    </tr>\n",
       "    <tr>\n",
       "      <th>25</th>\n",
       "      <td>Notebook Lenovo IdeaPad B330-15IKBR  preta 15....</td>\n",
       "      <td>5700 reais</td>\n",
       "    </tr>\n",
       "    <tr>\n",
       "      <th>26</th>\n",
       "      <td>Notebook Asus Vivobook X543ua-dm3458t I5 4gb 2...</td>\n",
       "      <td>2999 reais</td>\n",
       "    </tr>\n",
       "    <tr>\n",
       "      <th>27</th>\n",
       "      <td>Notebook Acer Aspire 5 A515-54-557c 15,6'' Ci5...</td>\n",
       "      <td>2983 reais</td>\n",
       "    </tr>\n",
       "    <tr>\n",
       "      <th>28</th>\n",
       "      <td>Notebook gamer Acer Aspire Nitro 5 AN515-54 pr...</td>\n",
       "      <td>5605 reais</td>\n",
       "    </tr>\n",
       "    <tr>\n",
       "      <th>29</th>\n",
       "      <td>Notebook Dell Inspiron 3501 prata 15.6\", Intel...</td>\n",
       "      <td>5150 reais</td>\n",
       "    </tr>\n",
       "    <tr>\n",
       "      <th>30</th>\n",
       "      <td>Notebook Dell Latitude 5480 Core I5 7200 7th 8...</td>\n",
       "      <td>2999 reais</td>\n",
       "    </tr>\n",
       "    <tr>\n",
       "      <th>31</th>\n",
       "      <td>Notebook Acer Swift 3 Sf314-57-57vy I5 16gb 25...</td>\n",
       "      <td>4599 reais</td>\n",
       "    </tr>\n",
       "    <tr>\n",
       "      <th>32</th>\n",
       "      <td>Notebook Positivo Carbon Intel Core I5 8gb 1tb...</td>\n",
       "      <td>2599 reais</td>\n",
       "    </tr>\n",
       "    <tr>\n",
       "      <th>33</th>\n",
       "      <td>Notebook Asus Vivobook Intel I5 8250u 8gb 256g...</td>\n",
       "      <td>3499 reais</td>\n",
       "    </tr>\n",
       "    <tr>\n",
       "      <th>34</th>\n",
       "      <td>Notebook Gamer Nitro 5 An517-52-56pr I5 8gb 51...</td>\n",
       "      <td>5299 reais</td>\n",
       "    </tr>\n",
       "    <tr>\n",
       "      <th>35</th>\n",
       "      <td>Notebook Dell I3501 15.6  10ª Intel Ci5 8gb 25...</td>\n",
       "      <td>3699 reais</td>\n",
       "    </tr>\n",
       "    <tr>\n",
       "      <th>36</th>\n",
       "      <td>Notebook Acer Aspire 5 A515-54-55l0 I5 8gb 256...</td>\n",
       "      <td>3299 reais</td>\n",
       "    </tr>\n",
       "    <tr>\n",
       "      <th>37</th>\n",
       "      <td>Notebook Positivo Intel Core I5 4gb 500gb Wifi...</td>\n",
       "      <td>2469 reais</td>\n",
       "    </tr>\n",
       "    <tr>\n",
       "      <th>38</th>\n",
       "      <td>Notebook Samsung Book Ci5 8gb 1tb 15,6'' Intel...</td>\n",
       "      <td>4199 reais</td>\n",
       "    </tr>\n",
       "    <tr>\n",
       "      <th>39</th>\n",
       "      <td>Notebook Acer Aspire 5 A515-54-557c I5 4gb 256...</td>\n",
       "      <td>3599 reais</td>\n",
       "    </tr>\n",
       "    <tr>\n",
       "      <th>40</th>\n",
       "      <td>Notebook LG Gram Full Hd 15,6'' 15z90n Ci5 8gb...</td>\n",
       "      <td>6070 reais</td>\n",
       "    </tr>\n",
       "    <tr>\n",
       "      <th>41</th>\n",
       "      <td>Notebook Ideapad 3 Ci5 8gb 256gb Ssd W10 Lenovo</td>\n",
       "      <td>3752 reais</td>\n",
       "    </tr>\n",
       "    <tr>\n",
       "      <th>42</th>\n",
       "      <td>Notebook Acer A515-55g-51hj I5 8gb (mx 2gb) 25...</td>\n",
       "      <td>4399 reais</td>\n",
       "    </tr>\n",
       "    <tr>\n",
       "      <th>43</th>\n",
       "      <td>Notebook Acer A514-53g-51bk Ci5 8gb 256ssd 14'...</td>\n",
       "      <td>3799 reais</td>\n",
       "    </tr>\n",
       "    <tr>\n",
       "      <th>44</th>\n",
       "      <td>Notebook Dell Latitude 5430 Core I5 3210 3th 8...</td>\n",
       "      <td>2985 reais</td>\n",
       "    </tr>\n",
       "    <tr>\n",
       "      <th>45</th>\n",
       "      <td>Notebook Acer Aspire 5 A514-54 dourada 14\", In...</td>\n",
       "      <td>3999 reais</td>\n",
       "    </tr>\n",
       "    <tr>\n",
       "      <th>46</th>\n",
       "      <td>Notebook Acer Aspire 5 A514-54-54lt I5 8gb 256...</td>\n",
       "      <td>3799 reais</td>\n",
       "    </tr>\n",
       "    <tr>\n",
       "      <th>47</th>\n",
       "      <td>Notebook Acer Aspire 5 15.6 Fhd I5-10210u 256g...</td>\n",
       "      <td>3449 reais</td>\n",
       "    </tr>\n",
       "    <tr>\n",
       "      <th>48</th>\n",
       "      <td>Notebook Samsung Book X30 prata 15.6\", Intel C...</td>\n",
       "      <td>4308 reais</td>\n",
       "    </tr>\n",
       "    <tr>\n",
       "      <th>49</th>\n",
       "      <td>Notebook Asus Vivobook Intel I5 4gb Ram Ssd 25...</td>\n",
       "      <td>3199 reais</td>\n",
       "    </tr>\n",
       "    <tr>\n",
       "      <th>50</th>\n",
       "      <td>Notebook gamer Acer Aspire Nitro 5 AN517-52 pr...</td>\n",
       "      <td>5499 reais</td>\n",
       "    </tr>\n",
       "  </tbody>\n",
       "</table>\n",
       "</div>"
      ],
      "text/plain": [
       "                                              Produto     valores\n",
       "0   Notebook A514-53-5239 Ci5 4gb Ram 256gb Ssd 14...  3028 reais\n",
       "1   Notebook S145 I5 8gb 256gb Ssd W10 15.6  82dj0...  3799 reais\n",
       "2   Notebook Lenovo Ideapad 3hd 15,6'' I5-iml Ci5 ...  3399 reais\n",
       "3   Notebook Acer Aspire 5 A515-54 prateada 15.6\",...  2983 reais\n",
       "4   Notebook Acer Aspire Nitro 5 AN515-54 vermelha...  4899 reais\n",
       "5   Notebook Acer Aspire 5 A515-54 prateada 15.6\",...  3799 reais\n",
       "6   Notebook Acer A515-54g-53xp I5 8gb (mx 2gb) 25...  3759 reais\n",
       "7   Notebook Samsung Book X30 Ci5 8gb 256ssd 15,6'...  3758 reais\n",
       "8   Notebook Samsung Galaxy Book S mercury gray tá...  5507 reais\n",
       "9   Notebook gamer Acer Aspire Nitro 5 AN517-52 pr...  5499 reais\n",
       "10  Notebook Acer Aspire 5 A514-53 prata 14\", Inte...  3999 reais\n",
       "11  Notebook Acer Aspire 5 A515-54-55l0 I5 8gb 256...  3299 reais\n",
       "12  Notebook Lenovo IdeaPad 15IML05  platinum gray...  3752 reais\n",
       "13  Notebook Asus VivoBook X543UA cinza-oscura 15....  2999 reais\n",
       "14  Notebook Acer Aspire 3 15.6 Hd I5-1035g1 256gb...  3389 reais\n",
       "15  Notebook Acer Aspire5 A515-54-56w9 Corei5 4gb ...  3199 reais\n",
       "16  Notebook Acer Aspire 5 A514-53 prata 14\", Inte...  3999 reais\n",
       "17  Notebook Acer Aspire 5 15,6'' A515-54-50bt Ci5...  3799 reais\n",
       "18  Notebook Acer Aspire5 A515-54-557c I5 4gb 256g...  3299 reais\n",
       "19  Notebook Acer Aspire 5 15,6'' Ci5 A515-54g 8gb...  3999 reais\n",
       "20  Notebook A515-54-55l0 Ci5 8gb Ram Ssd 256gb 15...  3272 reais\n",
       "21  Notebook Acer Aspire 5 15,6'' A515-54g-52c1 Ci...  4199 reais\n",
       "22  Notebook Samsung Book Ci5 8gb 1tb Intel Iris X...  3799 reais\n",
       "23  Notebook Gamer Nitro 5 An517-52-56pr I5 8gb 51...  5499 reais\n",
       "24  Notebook Lenovo IdeaPad 15IML05  platinum gray...  3199 reais\n",
       "25  Notebook Lenovo IdeaPad B330-15IKBR  preta 15....  5700 reais\n",
       "26  Notebook Asus Vivobook X543ua-dm3458t I5 4gb 2...  2999 reais\n",
       "27  Notebook Acer Aspire 5 A515-54-557c 15,6'' Ci5...  2983 reais\n",
       "28  Notebook gamer Acer Aspire Nitro 5 AN515-54 pr...  5605 reais\n",
       "29  Notebook Dell Inspiron 3501 prata 15.6\", Intel...  5150 reais\n",
       "30  Notebook Dell Latitude 5480 Core I5 7200 7th 8...  2999 reais\n",
       "31  Notebook Acer Swift 3 Sf314-57-57vy I5 16gb 25...  4599 reais\n",
       "32  Notebook Positivo Carbon Intel Core I5 8gb 1tb...  2599 reais\n",
       "33  Notebook Asus Vivobook Intel I5 8250u 8gb 256g...  3499 reais\n",
       "34  Notebook Gamer Nitro 5 An517-52-56pr I5 8gb 51...  5299 reais\n",
       "35  Notebook Dell I3501 15.6  10ª Intel Ci5 8gb 25...  3699 reais\n",
       "36  Notebook Acer Aspire 5 A515-54-55l0 I5 8gb 256...  3299 reais\n",
       "37  Notebook Positivo Intel Core I5 4gb 500gb Wifi...  2469 reais\n",
       "38  Notebook Samsung Book Ci5 8gb 1tb 15,6'' Intel...  4199 reais\n",
       "39  Notebook Acer Aspire 5 A515-54-557c I5 4gb 256...  3599 reais\n",
       "40  Notebook LG Gram Full Hd 15,6'' 15z90n Ci5 8gb...  6070 reais\n",
       "41    Notebook Ideapad 3 Ci5 8gb 256gb Ssd W10 Lenovo  3752 reais\n",
       "42  Notebook Acer A515-55g-51hj I5 8gb (mx 2gb) 25...  4399 reais\n",
       "43  Notebook Acer A514-53g-51bk Ci5 8gb 256ssd 14'...  3799 reais\n",
       "44  Notebook Dell Latitude 5430 Core I5 3210 3th 8...  2985 reais\n",
       "45  Notebook Acer Aspire 5 A514-54 dourada 14\", In...  3999 reais\n",
       "46  Notebook Acer Aspire 5 A514-54-54lt I5 8gb 256...  3799 reais\n",
       "47  Notebook Acer Aspire 5 15.6 Fhd I5-10210u 256g...  3449 reais\n",
       "48  Notebook Samsung Book X30 prata 15.6\", Intel C...  4308 reais\n",
       "49  Notebook Asus Vivobook Intel I5 4gb Ram Ssd 25...  3199 reais\n",
       "50  Notebook gamer Acer Aspire Nitro 5 AN517-52 pr...  5499 reais"
      ]
     },
     "execution_count": 91,
     "metadata": {},
     "output_type": "execute_result"
    }
   ],
   "source": [
    "df2"
   ]
  },
  {
   "cell_type": "code",
   "execution_count": null,
   "metadata": {
    "id": "vrUpWdMj6v3i"
   },
   "outputs": [],
   "source": []
  },
  {
   "cell_type": "code",
   "execution_count": null,
   "metadata": {
    "id": "vKh2HAwN6v0H"
   },
   "outputs": [],
   "source": []
  },
  {
   "cell_type": "code",
   "execution_count": null,
   "metadata": {
    "id": "CW4OE6C06vxp"
   },
   "outputs": [],
   "source": []
  },
  {
   "cell_type": "code",
   "execution_count": null,
   "metadata": {
    "id": "CrGEowLi6vvW"
   },
   "outputs": [],
   "source": []
  },
  {
   "cell_type": "code",
   "execution_count": null,
   "metadata": {
    "id": "BYbRKm1l6vsk"
   },
   "outputs": [],
   "source": []
  },
  {
   "cell_type": "code",
   "execution_count": null,
   "metadata": {
    "id": "_pQfi64D6vpm"
   },
   "outputs": [],
   "source": []
  },
  {
   "cell_type": "code",
   "execution_count": null,
   "metadata": {
    "id": "JOIjjqRB6vnN"
   },
   "outputs": [],
   "source": []
  },
  {
   "cell_type": "code",
   "execution_count": null,
   "metadata": {
    "id": "4zf41hhv6vkl"
   },
   "outputs": [],
   "source": []
  }
 ],
 "metadata": {
  "colab": {
   "collapsed_sections": [],
   "name": "ATIVIDADE CONTINUA 5.ipynb",
   "provenance": []
  },
  "kernelspec": {
   "display_name": "Python 3",
   "language": "python",
   "name": "python3"
  },
  "language_info": {
   "codemirror_mode": {
    "name": "ipython",
    "version": 3
   },
   "file_extension": ".py",
   "mimetype": "text/x-python",
   "name": "python",
   "nbconvert_exporter": "python",
   "pygments_lexer": "ipython3",
   "version": "3.8.8"
  }
 },
 "nbformat": 4,
 "nbformat_minor": 1
}

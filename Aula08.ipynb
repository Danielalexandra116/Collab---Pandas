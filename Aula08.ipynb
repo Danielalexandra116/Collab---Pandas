{
  "nbformat": 4,
  "nbformat_minor": 0,
  "metadata": {
    "colab": {
      "name": "Aula08.ipynb",
      "provenance": [],
      "collapsed_sections": []
    },
    "kernelspec": {
      "name": "python3",
      "display_name": "Python 3"
    },
    "language_info": {
      "name": "python"
    }
  },
  "cells": [
    {
      "cell_type": "code",
      "metadata": {
        "id": "oySVN-ECmyt8"
      },
      "source": [
        "import requests\n",
        "import pandas as pd"
      ],
      "execution_count": 18,
      "outputs": []
    },
    {
      "cell_type": "code",
      "metadata": {
        "id": "mqk-LZPU7pYr"
      },
      "source": [
        "response = requests.get('http://makeup-api.herokuapp.com/api/v1/products.json?brand=maybelline')"
      ],
      "execution_count": 26,
      "outputs": []
    },
    {
      "cell_type": "code",
      "metadata": {
        "colab": {
          "base_uri": "https://localhost:8080/"
        },
        "id": "WfgdWr6x75h6",
        "outputId": "3a6945e7-2f60-4371-849b-9f303e5004a8"
      },
      "source": [
        "response.status_code"
      ],
      "execution_count": 16,
      "outputs": [
        {
          "output_type": "execute_result",
          "data": {
            "text/plain": [
              "200"
            ]
          },
          "metadata": {
            "tags": []
          },
          "execution_count": 16
        }
      ]
    },
    {
      "cell_type": "code",
      "metadata": {
        "colab": {
          "base_uri": "https://localhost:8080/",
          "height": 603
        },
        "id": "djGnlFOv8JTE",
        "outputId": "4fb90599-8a55-460a-809b-fcd00ffdab6c"
      },
      "source": [
        "df = pd.DataFrame(response.json())\n",
        "df.head()"
      ],
      "execution_count": 19,
      "outputs": [
        {
          "output_type": "execute_result",
          "data": {
            "text/html": [
              "<div>\n",
              "<style scoped>\n",
              "    .dataframe tbody tr th:only-of-type {\n",
              "        vertical-align: middle;\n",
              "    }\n",
              "\n",
              "    .dataframe tbody tr th {\n",
              "        vertical-align: top;\n",
              "    }\n",
              "\n",
              "    .dataframe thead th {\n",
              "        text-align: right;\n",
              "    }\n",
              "</style>\n",
              "<table border=\"1\" class=\"dataframe\">\n",
              "  <thead>\n",
              "    <tr style=\"text-align: right;\">\n",
              "      <th></th>\n",
              "      <th>id</th>\n",
              "      <th>brand</th>\n",
              "      <th>name</th>\n",
              "      <th>price</th>\n",
              "      <th>price_sign</th>\n",
              "      <th>currency</th>\n",
              "      <th>image_link</th>\n",
              "      <th>product_link</th>\n",
              "      <th>website_link</th>\n",
              "      <th>description</th>\n",
              "      <th>rating</th>\n",
              "      <th>category</th>\n",
              "      <th>product_type</th>\n",
              "      <th>tag_list</th>\n",
              "      <th>created_at</th>\n",
              "      <th>updated_at</th>\n",
              "      <th>product_api_url</th>\n",
              "      <th>api_featured_image</th>\n",
              "      <th>product_colors</th>\n",
              "    </tr>\n",
              "  </thead>\n",
              "  <tbody>\n",
              "    <tr>\n",
              "      <th>0</th>\n",
              "      <td>495</td>\n",
              "      <td>maybelline</td>\n",
              "      <td>Maybelline Face Studio Master Hi-Light Light B...</td>\n",
              "      <td>14.99</td>\n",
              "      <td>None</td>\n",
              "      <td>None</td>\n",
              "      <td>https://d3t32hsnjxo7q6.cloudfront.net/i/991799...</td>\n",
              "      <td>https://well.ca/products/maybelline-face-studi...</td>\n",
              "      <td>https://well.ca</td>\n",
              "      <td>Maybelline Face Studio Master Hi-Light Light B...</td>\n",
              "      <td>5.0</td>\n",
              "      <td>None</td>\n",
              "      <td>bronzer</td>\n",
              "      <td>[]</td>\n",
              "      <td>2016-10-01T18:36:15.012Z</td>\n",
              "      <td>2017-12-23T21:08:50.624Z</td>\n",
              "      <td>http://makeup-api.herokuapp.com/api/v1/product...</td>\n",
              "      <td>//s3.amazonaws.com/donovanbailey/products/api_...</td>\n",
              "      <td>[]</td>\n",
              "    </tr>\n",
              "    <tr>\n",
              "      <th>1</th>\n",
              "      <td>488</td>\n",
              "      <td>maybelline</td>\n",
              "      <td>Maybelline Fit Me Bronzer</td>\n",
              "      <td>10.29</td>\n",
              "      <td>None</td>\n",
              "      <td>None</td>\n",
              "      <td>https://d3t32hsnjxo7q6.cloudfront.net/i/d4f7d8...</td>\n",
              "      <td>https://well.ca/products/maybelline-fit-me-bro...</td>\n",
              "      <td>https://well.ca</td>\n",
              "      <td>Why You'll Love It\\n\\nLightweight pigments ble...</td>\n",
              "      <td>4.5</td>\n",
              "      <td>None</td>\n",
              "      <td>bronzer</td>\n",
              "      <td>[]</td>\n",
              "      <td>2016-10-01T18:36:05.584Z</td>\n",
              "      <td>2017-12-23T21:08:49.985Z</td>\n",
              "      <td>http://makeup-api.herokuapp.com/api/v1/product...</td>\n",
              "      <td>//s3.amazonaws.com/donovanbailey/products/api_...</td>\n",
              "      <td>[{'hex_value': '#CF9978', 'colour_name': 'Medi...</td>\n",
              "    </tr>\n",
              "    <tr>\n",
              "      <th>2</th>\n",
              "      <td>477</td>\n",
              "      <td>maybelline</td>\n",
              "      <td>Maybelline Facestudio Master Contour Kit</td>\n",
              "      <td>15.99</td>\n",
              "      <td>None</td>\n",
              "      <td>None</td>\n",
              "      <td>https://d3t32hsnjxo7q6.cloudfront.net/i/4f731d...</td>\n",
              "      <td>https://well.ca/products/maybelline-facestudio...</td>\n",
              "      <td>https://well.ca</td>\n",
              "      <td>Maybelline Facestudio Master Contour Kit is th...</td>\n",
              "      <td>NaN</td>\n",
              "      <td>None</td>\n",
              "      <td>bronzer</td>\n",
              "      <td>[]</td>\n",
              "      <td>2016-10-01T18:35:40.504Z</td>\n",
              "      <td>2017-12-23T21:08:48.157Z</td>\n",
              "      <td>http://makeup-api.herokuapp.com/api/v1/product...</td>\n",
              "      <td>//s3.amazonaws.com/donovanbailey/products/api_...</td>\n",
              "      <td>[{'hex_value': '#9B7163', 'colour_name': None}...</td>\n",
              "    </tr>\n",
              "    <tr>\n",
              "      <th>3</th>\n",
              "      <td>468</td>\n",
              "      <td>maybelline</td>\n",
              "      <td>Maybelline Face Studio Master Hi-Light Light B...</td>\n",
              "      <td>14.99</td>\n",
              "      <td>None</td>\n",
              "      <td>None</td>\n",
              "      <td>https://d3t32hsnjxo7q6.cloudfront.net/i/462103...</td>\n",
              "      <td>https://well.ca/products/maybelline-face-studi...</td>\n",
              "      <td>https://well.ca</td>\n",
              "      <td>Maybelline Face Studio Master Hi-Light Light B...</td>\n",
              "      <td>NaN</td>\n",
              "      <td>powder</td>\n",
              "      <td>blush</td>\n",
              "      <td>[]</td>\n",
              "      <td>2016-10-01T18:35:27.706Z</td>\n",
              "      <td>2017-12-23T21:08:47.102Z</td>\n",
              "      <td>http://makeup-api.herokuapp.com/api/v1/product...</td>\n",
              "      <td>//s3.amazonaws.com/donovanbailey/products/api_...</td>\n",
              "      <td>[]</td>\n",
              "    </tr>\n",
              "    <tr>\n",
              "      <th>4</th>\n",
              "      <td>452</td>\n",
              "      <td>maybelline</td>\n",
              "      <td>Maybelline Face Studio Master Hi-Light Light B...</td>\n",
              "      <td>14.99</td>\n",
              "      <td>None</td>\n",
              "      <td>None</td>\n",
              "      <td>https://d3t32hsnjxo7q6.cloudfront.net/i/e8c59b...</td>\n",
              "      <td>https://well.ca/products/maybelline-face-studi...</td>\n",
              "      <td>https://well.ca</td>\n",
              "      <td>Maybelline Face Studio Master Hi-Light Light B...</td>\n",
              "      <td>5.0</td>\n",
              "      <td>powder</td>\n",
              "      <td>blush</td>\n",
              "      <td>[]</td>\n",
              "      <td>2016-10-01T18:35:07.476Z</td>\n",
              "      <td>2017-12-23T20:51:17.460Z</td>\n",
              "      <td>http://makeup-api.herokuapp.com/api/v1/product...</td>\n",
              "      <td>//s3.amazonaws.com/donovanbailey/products/api_...</td>\n",
              "      <td>[]</td>\n",
              "    </tr>\n",
              "  </tbody>\n",
              "</table>\n",
              "</div>"
            ],
            "text/plain": [
              "    id  ...                                     product_colors\n",
              "0  495  ...                                                 []\n",
              "1  488  ...  [{'hex_value': '#CF9978', 'colour_name': 'Medi...\n",
              "2  477  ...  [{'hex_value': '#9B7163', 'colour_name': None}...\n",
              "3  468  ...                                                 []\n",
              "4  452  ...                                                 []\n",
              "\n",
              "[5 rows x 19 columns]"
            ]
          },
          "metadata": {
            "tags": []
          },
          "execution_count": 19
        }
      ]
    },
    {
      "cell_type": "code",
      "metadata": {
        "colab": {
          "base_uri": "https://localhost:8080/"
        },
        "id": "oKOGvTrC9TdH",
        "outputId": "f8c13b52-4dcf-49ab-9d45-53a2dbb25968"
      },
      "source": [
        "df_produtos = pd.read_json('products.json')\n",
        "df_produtos.shape"
      ],
      "execution_count": 21,
      "outputs": [
        {
          "output_type": "execute_result",
          "data": {
            "text/plain": [
              "(931, 19)"
            ]
          },
          "metadata": {
            "tags": []
          },
          "execution_count": 21
        }
      ]
    },
    {
      "cell_type": "code",
      "metadata": {
        "colab": {
          "base_uri": "https://localhost:8080/",
          "height": 499
        },
        "id": "mERYKxxD-Fb0",
        "outputId": "83067b4a-5d44-4523-f7b2-4e2bddfea1ee"
      },
      "source": [
        "df_produtos.head()"
      ],
      "execution_count": 22,
      "outputs": [
        {
          "output_type": "execute_result",
          "data": {
            "text/html": [
              "<div>\n",
              "<style scoped>\n",
              "    .dataframe tbody tr th:only-of-type {\n",
              "        vertical-align: middle;\n",
              "    }\n",
              "\n",
              "    .dataframe tbody tr th {\n",
              "        vertical-align: top;\n",
              "    }\n",
              "\n",
              "    .dataframe thead th {\n",
              "        text-align: right;\n",
              "    }\n",
              "</style>\n",
              "<table border=\"1\" class=\"dataframe\">\n",
              "  <thead>\n",
              "    <tr style=\"text-align: right;\">\n",
              "      <th></th>\n",
              "      <th>id</th>\n",
              "      <th>brand</th>\n",
              "      <th>name</th>\n",
              "      <th>price</th>\n",
              "      <th>price_sign</th>\n",
              "      <th>currency</th>\n",
              "      <th>image_link</th>\n",
              "      <th>product_link</th>\n",
              "      <th>website_link</th>\n",
              "      <th>description</th>\n",
              "      <th>rating</th>\n",
              "      <th>category</th>\n",
              "      <th>product_type</th>\n",
              "      <th>tag_list</th>\n",
              "      <th>created_at</th>\n",
              "      <th>updated_at</th>\n",
              "      <th>product_api_url</th>\n",
              "      <th>api_featured_image</th>\n",
              "      <th>product_colors</th>\n",
              "    </tr>\n",
              "  </thead>\n",
              "  <tbody>\n",
              "    <tr>\n",
              "      <th>0</th>\n",
              "      <td>1048</td>\n",
              "      <td>colourpop</td>\n",
              "      <td>Lippie Pencil</td>\n",
              "      <td>5.0</td>\n",
              "      <td>$</td>\n",
              "      <td>CAD</td>\n",
              "      <td>https://cdn.shopify.com/s/files/1/1338/0845/co...</td>\n",
              "      <td>https://colourpop.com/collections/lippie-pencil</td>\n",
              "      <td>https://colourpop.com</td>\n",
              "      <td>Lippie Pencil A long-wearing and high-intensit...</td>\n",
              "      <td>NaN</td>\n",
              "      <td>pencil</td>\n",
              "      <td>lip_liner</td>\n",
              "      <td>[cruelty free, Vegan]</td>\n",
              "      <td>2018-07-08 23:45:08.056000+00:00</td>\n",
              "      <td>2018-07-09 00:53:23.301000+00:00</td>\n",
              "      <td>https://makeup-api.herokuapp.com/api/v1/produc...</td>\n",
              "      <td>//s3.amazonaws.com/donovanbailey/products/api_...</td>\n",
              "      <td>[{'hex_value': '#B28378', 'colour_name': 'BFF ...</td>\n",
              "    </tr>\n",
              "    <tr>\n",
              "      <th>1</th>\n",
              "      <td>1047</td>\n",
              "      <td>colourpop</td>\n",
              "      <td>Blotted Lip</td>\n",
              "      <td>5.5</td>\n",
              "      <td>$</td>\n",
              "      <td>CAD</td>\n",
              "      <td>https://cdn.shopify.com/s/files/1/1338/0845/pr...</td>\n",
              "      <td>https://colourpop.com/collections/lippie-stix?...</td>\n",
              "      <td>https://colourpop.com</td>\n",
              "      <td>Blotted Lip Sheer matte lipstick that creates ...</td>\n",
              "      <td>NaN</td>\n",
              "      <td>lipstick</td>\n",
              "      <td>lipstick</td>\n",
              "      <td>[cruelty free, Vegan]</td>\n",
              "      <td>2018-07-08 22:01:20.178000+00:00</td>\n",
              "      <td>2018-07-09 00:53:23.287000+00:00</td>\n",
              "      <td>https://makeup-api.herokuapp.com/api/v1/produc...</td>\n",
              "      <td>//s3.amazonaws.com/donovanbailey/products/api_...</td>\n",
              "      <td>[{'hex_value': '#b72227', 'colour_name': 'Bee'...</td>\n",
              "    </tr>\n",
              "    <tr>\n",
              "      <th>2</th>\n",
              "      <td>1046</td>\n",
              "      <td>colourpop</td>\n",
              "      <td>Lippie Stix</td>\n",
              "      <td>5.5</td>\n",
              "      <td>$</td>\n",
              "      <td>CAD</td>\n",
              "      <td>https://cdn.shopify.com/s/files/1/1338/0845/co...</td>\n",
              "      <td>https://colourpop.com/collections/lippie-stix</td>\n",
              "      <td>https://colourpop.com</td>\n",
              "      <td>Lippie Stix Formula contains Vitamin E, Mango,...</td>\n",
              "      <td>NaN</td>\n",
              "      <td>lipstick</td>\n",
              "      <td>lipstick</td>\n",
              "      <td>[cruelty free, Vegan]</td>\n",
              "      <td>2018-07-08 21:47:49.858000+00:00</td>\n",
              "      <td>2018-07-09 00:53:23.274000+00:00</td>\n",
              "      <td>https://makeup-api.herokuapp.com/api/v1/produc...</td>\n",
              "      <td>//s3.amazonaws.com/donovanbailey/products/api_...</td>\n",
              "      <td>[{'hex_value': '#F2DEC3', 'colour_name': 'Fair...</td>\n",
              "    </tr>\n",
              "    <tr>\n",
              "      <th>3</th>\n",
              "      <td>1045</td>\n",
              "      <td>colourpop</td>\n",
              "      <td>No Filter Foundation</td>\n",
              "      <td>12.0</td>\n",
              "      <td>$</td>\n",
              "      <td>CAD</td>\n",
              "      <td>https://cdn.shopify.com/s/files/1/1338/0845/pr...</td>\n",
              "      <td>https://colourpop.com/products/no-filter-matte...</td>\n",
              "      <td>https://colourpop.com/products/no-filter-matte...</td>\n",
              "      <td>Developed for the Selfie Age, our buildable fu...</td>\n",
              "      <td>NaN</td>\n",
              "      <td>liquid</td>\n",
              "      <td>foundation</td>\n",
              "      <td>[cruelty free, Vegan]</td>\n",
              "      <td>2018-07-08 18:22:25.273000+00:00</td>\n",
              "      <td>2018-07-09 00:53:23.313000+00:00</td>\n",
              "      <td>https://makeup-api.herokuapp.com/api/v1/produc...</td>\n",
              "      <td>//s3.amazonaws.com/donovanbailey/products/api_...</td>\n",
              "      <td>[{'hex_value': '#F2DEC3', 'colour_name': 'Fair...</td>\n",
              "    </tr>\n",
              "    <tr>\n",
              "      <th>4</th>\n",
              "      <td>1044</td>\n",
              "      <td>boosh</td>\n",
              "      <td>Lipstick</td>\n",
              "      <td>26.0</td>\n",
              "      <td>$</td>\n",
              "      <td>CAD</td>\n",
              "      <td>https://cdn.shopify.com/s/files/1/1016/3243/pr...</td>\n",
              "      <td>https://www.boosh.ca/collections/all</td>\n",
              "      <td>https://www.boosh.ca/</td>\n",
              "      <td>All of our products are free from lead and hea...</td>\n",
              "      <td>NaN</td>\n",
              "      <td>lipstick</td>\n",
              "      <td>lipstick</td>\n",
              "      <td>[Chemical Free, Organic]</td>\n",
              "      <td>2018-07-08 17:32:28.088000+00:00</td>\n",
              "      <td>2018-09-02 22:52:06.669000+00:00</td>\n",
              "      <td>https://makeup-api.herokuapp.com/api/v1/produc...</td>\n",
              "      <td>//s3.amazonaws.com/donovanbailey/products/api_...</td>\n",
              "      <td>[{'hex_value': '#CB4975', 'colour_name': 'Babs...</td>\n",
              "    </tr>\n",
              "  </tbody>\n",
              "</table>\n",
              "</div>"
            ],
            "text/plain": [
              "     id  ...                                     product_colors\n",
              "0  1048  ...  [{'hex_value': '#B28378', 'colour_name': 'BFF ...\n",
              "1  1047  ...  [{'hex_value': '#b72227', 'colour_name': 'Bee'...\n",
              "2  1046  ...  [{'hex_value': '#F2DEC3', 'colour_name': 'Fair...\n",
              "3  1045  ...  [{'hex_value': '#F2DEC3', 'colour_name': 'Fair...\n",
              "4  1044  ...  [{'hex_value': '#CB4975', 'colour_name': 'Babs...\n",
              "\n",
              "[5 rows x 19 columns]"
            ]
          },
          "metadata": {
            "tags": []
          },
          "execution_count": 22
        }
      ]
    },
    {
      "cell_type": "code",
      "metadata": {
        "colab": {
          "base_uri": "https://localhost:8080/"
        },
        "id": "LWS0u2nP-Mn3",
        "outputId": "d8c14d4b-fa3a-4bbb-e258-ebe62e23fdc5"
      },
      "source": [
        "df_produtos['brand'].unique()"
      ],
      "execution_count": 24,
      "outputs": [
        {
          "output_type": "execute_result",
          "data": {
            "text/plain": [
              "array(['colourpop', 'boosh', 'deciem', 'zorah biocosmetiques',\n",
              "       'w3llpeople', \"sally b's skin yummies\", 'rejuva minerals',\n",
              "       'penny lane organics', 'nudus', 'marienatie',\n",
              "       \"maia's mineral galaxy\", 'lotus cosmetics usa', 'green people',\n",
              "       'coastal classic creation', \"c'est moi\", 'alva', 'glossier', 'nyx',\n",
              "       'fenty', 'clinique', 'dior', 'iman', 'benefit', 'smashbox',\n",
              "       'marcelle', 'stila', 'mineral fusion', None, 'annabelle',\n",
              "       'dr. hauschka', 'physicians formula', 'cargo cosmetics',\n",
              "       'covergirl', 'e.l.f.', 'maybelline', 'almay', 'milani',\n",
              "       'pure anada', \"l'oreal\", 'sante', 'revlon', 'anna sui',\n",
              "       'wet n wild', 'pacifica', 'mistura', 'zorah', 'suncoat', 'moov',\n",
              "       'misa', 'salon perfect', 'orly', 'china glaze', 'essie',\n",
              "       'butter london', 'sinful colours', 'piggy paint', 'dalish',\n",
              "       \"burt's bees\"], dtype=object)"
            ]
          },
          "metadata": {
            "tags": []
          },
          "execution_count": 24
        }
      ]
    },
    {
      "cell_type": "code",
      "metadata": {
        "colab": {
          "base_uri": "https://localhost:8080/"
        },
        "id": "_XC9BKUT-SMs",
        "outputId": "22a74125-431c-4935-9037-4b6273b79bcd"
      },
      "source": [
        "response = requests.get('http://makeup-api.herokuapp.com/api/v1/products/1048.json')\n",
        "response.json()"
      ],
      "execution_count": 28,
      "outputs": [
        {
          "output_type": "execute_result",
          "data": {
            "text/plain": [
              "{'api_featured_image': '//s3.amazonaws.com/donovanbailey/products/api_featured_images/000/001/048/original/open-uri20180708-4-13okqci?1531093614',\n",
              " 'brand': 'colourpop',\n",
              " 'category': 'pencil',\n",
              " 'created_at': '2018-07-08T23:45:08.056Z',\n",
              " 'currency': 'CAD',\n",
              " 'description': 'Lippie Pencil A long-wearing and high-intensity lip pencil that glides on easily and prevents feathering. Many of our Lippie Stix have a coordinating Lippie Pencil designed to compliment it perfectly, but feel free to mix and match!',\n",
              " 'id': 1048,\n",
              " 'image_link': 'https://cdn.shopify.com/s/files/1/1338/0845/collections/lippie-pencil_grande.jpg?v=1512588769',\n",
              " 'name': 'Lippie Pencil',\n",
              " 'price': '5.0',\n",
              " 'price_sign': '$',\n",
              " 'product_api_url': 'http://makeup-api.herokuapp.com/api/v1/products/1048.json',\n",
              " 'product_colors': [{'colour_name': 'BFF Pencil', 'hex_value': '#B28378'},\n",
              "  {'colour_name': '951 Pencil', 'hex_value': '#A36B5E'},\n",
              "  {'colour_name': 'Beeper Pencil', 'hex_value': '#966A60'},\n",
              "  {'colour_name': 'Oh Snap Pencil', 'hex_value': '#8F5954'},\n",
              "  {'colour_name': 'Curvii Pencil', 'hex_value': '#975348'},\n",
              "  {'colour_name': 'Lumiere Pencil', 'hex_value': '#865B69'},\n",
              "  {'colour_name': 'Bumble Pencil', 'hex_value': '#8E474D'},\n",
              "  {'colour_name': 'BFF Pencil 3', 'hex_value': '#5F2820'},\n",
              "  {'colour_name': 'Brills Pencil', 'hex_value': '#C095BC'},\n",
              "  {'colour_name': 'Are N Be Pencil', 'hex_value': '#743A6A'},\n",
              "  {'colour_name': 'Contempo Pencil', 'hex_value': '#965564'},\n",
              "  {'colour_name': 'Heart On Pencil', 'hex_value': '#BF2C7E'},\n",
              "  {'colour_name': 'Trixie Pencil', 'hex_value': '#CE435D'},\n",
              "  {'colour_name': 'Chi Chi Pencil', 'hex_value': '#DA6952'},\n",
              "  {'colour_name': 'Clique Pencil', 'hex_value': '#A33C37'},\n",
              "  {'colour_name': 'Frenchie Pencil', 'hex_value': '#C23D3C'},\n",
              "  {'colour_name': 'Bossy Pencil', 'hex_value': '#AF4051'},\n",
              "  {'colour_name': 'Wild Nothing Pencil', 'hex_value': '#914B4C'},\n",
              "  {'colour_name': 'Dopey Pencil', 'hex_value': '#6D414B'},\n",
              "  {'colour_name': 'Toolips Pencil', 'hex_value': '#4D2D28'},\n",
              "  {'colour_name': 'Mamacita Pencil', 'hex_value': '#361927'},\n",
              "  {'colour_name': 'Pitch Pencil', 'hex_value': '#714B41'},\n",
              "  {'colour_name': 'LBB Pencil', 'hex_value': '#762F50'},\n",
              "  {'colour_name': 'Love Bug Pencil', 'hex_value': '#8C4A47'},\n",
              "  {'colour_name': 'Poison Pencil', 'hex_value': '#702E2D'},\n",
              "  {'colour_name': 'Bichette Pencil', 'hex_value': '#93283C'},\n",
              "  {'colour_name': 'Dukes Pencil', 'hex_value': '#653E44'},\n",
              "  {'colour_name': 'Leather Pencil', 'hex_value': '#5C3357'},\n",
              "  {'colour_name': 'Bull Chic Pencil', 'hex_value': '#242225'},\n",
              "  {'colour_name': 'Brink Pencil', 'hex_value': '#B5716A'},\n",
              "  {'colour_name': 'I Heart This Pencil', 'hex_value': '#B0516F'},\n",
              "  {'colour_name': 'Ellarie Pencil', 'hex_value': '#542328'},\n",
              "  {'colour_name': 'Toy Pencil', 'hex_value': '#DFAC9B'},\n",
              "  {'colour_name': 'BFF Pencil 2', 'hex_value': '#AB7164'}],\n",
              " 'product_link': 'https://colourpop.com/collections/lippie-pencil',\n",
              " 'product_type': 'lip_liner',\n",
              " 'rating': None,\n",
              " 'tag_list': ['cruelty free', 'Vegan'],\n",
              " 'updated_at': '2018-07-09T00:53:23.301Z',\n",
              " 'website_link': 'https://colourpop.com'}"
            ]
          },
          "metadata": {
            "tags": []
          },
          "execution_count": 28
        }
      ]
    }
  ]
}